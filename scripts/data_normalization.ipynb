{
  "nbformat": 4,
  "nbformat_minor": 0,
  "metadata": {
    "colab": {
      "provenance": []
    },
    "kernelspec": {
      "name": "python3",
      "display_name": "Python 3"
    },
    "language_info": {
      "name": "python"
    }
  },
  "cells": [
    {
      "cell_type": "code",
      "execution_count": 311,
      "metadata": {
        "id": "Tj6Lm05pHnYk"
      },
      "outputs": [],
      "source": [
        "import pandas as pd\n",
        "import numpy as np\n",
        "import re"
      ]
    },
    {
      "cell_type": "code",
      "source": [
        "df1 = pd.read_csv(\"cars-data-table.csv\")\n",
        "df2 = pd.read_csv(\"auto-data-table-final.csv\")\n",
        "print(df1.head(1))\n",
        "print(df2.head(1))"
      ],
      "metadata": {
        "colab": {
          "base_uri": "https://localhost:8080/"
        },
        "id": "cHGrWvKyMm6r",
        "outputId": "8bf136a6-5cba-4665-eac7-1077f02f253a"
      },
      "execution_count": 312,
      "outputs": [
        {
          "output_type": "stream",
          "name": "stdout",
          "text": [
            "   Unnamed: 0  year                                     spec_title fuel_type  \\\n",
            "0           0  2016  2016 Abarth 124 Spider 1.4 MultiAir 16v specs    Petrol   \n",
            "\n",
            "  transmission     price             body_type number_of_seats  engine_type  \\\n",
            "0       Manual  € 44.760  2-doors, convertible               2  fuel engine   \n",
            "\n",
            "  fuel_type_detail  ... top_speed  acceleration_0_100_kmh  urban_consumption  \\\n",
            "0         gasoline  ...  232 km/h                   6,8 s        8,5 l/100km   \n",
            "\n",
            "  extra_urban_consumption combined_consumption co2_emissions battery_range  \\\n",
            "0             5,1 l/100km          6,4 l/100km      148 g/km           NaN   \n",
            "\n",
            "  battery_capacity charging_time power_consumption  \n",
            "0              NaN           NaN               NaN  \n",
            "\n",
            "[1 rows x 26 columns]\n",
            "   brand model  year                                         spec_title  \\\n",
            "0  Acura    CL  2000  3.2 i V6 24V Type S (263 Hp) Automatic 2000 - ...   \n",
            "\n",
            "                                            spec_url          fuel_type  \\\n",
            "0  https://www.auto-data.net/en/acura-cl-ii-3.2-i...  Petrol (Gasoline)   \n",
            "\n",
            "                      transmission                     engine_modification  \\\n",
            "0  5 gears, automatic transmission  3.2 i V6 24V Type S (263 Hp) Automatic   \n",
            "\n",
            "  start_production body_type  ... doors               power  \\\n",
            "0        2000 year     Coupe  ...     2  263 Hp @ 6100 rpm.   \n",
            "\n",
            "         drive_wheel           engine_aspiration  \\\n",
            "0  Front wheel drive  Naturally aspirated engine   \n",
            "\n",
            "           fuel_injection_system number_of_cylinders  engine_configuration  \\\n",
            "0  Multi-port manifold injection                 6.0              V-engine   \n",
            "\n",
            "   tires_size                             fuel_consumption_urban  \\\n",
            "0  215/50 R17  12.4 l/100 km\\r\\n\\t\\t\\t\\t\\t\\t\\t18.97 US mpg22....   \n",
            "\n",
            "                        fuel_consumption_extra_urban  \n",
            "0  8.1 l/100 km\\r\\n\\t\\t\\t\\t\\t\\t\\t29.04 US mpg34.8...  \n",
            "\n",
            "[1 rows x 21 columns]\n"
          ]
        }
      ]
    },
    {
      "cell_type": "code",
      "source": [
        "def extract_l_per_100km(text):\n",
        "    if pd.isna(text):\n",
        "        return None\n",
        "    # Look for a number followed by 'l/100 km' (ignore case and spaces)\n",
        "    match = re.search(r'(\\d+\\.?\\d*)\\s*l/100\\s*km', text, re.IGNORECASE)\n",
        "    if match:\n",
        "        return float(match.group(1))\n",
        "    else:\n",
        "        return None"
      ],
      "metadata": {
        "id": "JwPAAgI_X6gT"
      },
      "execution_count": 313,
      "outputs": []
    },
    {
      "cell_type": "code",
      "source": [
        "print(df1.columns.size)\n",
        "print(df2.columns.size)\n",
        "\n",
        "df1.drop(columns=[\n",
        "    \"engine_type\",\n",
        "    \"fuel_type_detail\",\n",
        "    \"max_power\"\n",
        "], inplace=True)\n",
        "\n",
        "df1.drop(df1.columns[0], axis=1, inplace=True)\n",
        "\n",
        "df1.rename(columns={\n",
        "    \"number_of_seats\": \"seats\",\n",
        "    \"total_max_power_hp\": \"power_hp\",\n",
        "    \"total_max_power_kw\": \"power_kw\"\n",
        "}, inplace=True)\n",
        "\n",
        "df2.rename(columns={\n",
        "    \"power\": \"power_hp\",\n",
        "    \"fuel_consumption_urban\":\"urban_consumption\",\n",
        "    \"fuel_consumption_extra_urban\":\"extra_urban_consumption\"\n",
        "}, inplace=True)\n",
        "\n",
        "print(df1.columns)\n",
        "print(df1.columns.size)\n",
        "\n"
      ],
      "metadata": {
        "colab": {
          "base_uri": "https://localhost:8080/"
        },
        "id": "W93PGVjBHzVF",
        "outputId": "6fdeb338-a1ef-4575-ab54-25a1e01077e6"
      },
      "execution_count": 314,
      "outputs": [
        {
          "output_type": "stream",
          "name": "stdout",
          "text": [
            "26\n",
            "21\n",
            "Index(['year', 'spec_title', 'fuel_type', 'transmission', 'price', 'body_type',\n",
            "       'seats', 'power_kw', 'power_hp', 'max_torque', 'fuel_tank_capacity',\n",
            "       'turbo', 'top_speed', 'acceleration_0_100_kmh', 'urban_consumption',\n",
            "       'extra_urban_consumption', 'combined_consumption', 'co2_emissions',\n",
            "       'battery_range', 'battery_capacity', 'charging_time',\n",
            "       'power_consumption'],\n",
            "      dtype='object')\n",
            "22\n"
          ]
        }
      ]
    },
    {
      "cell_type": "code",
      "source": [
        "# Extract number of doors\n",
        "df1['doors'] = df1['body_type'].str.extract(r'(\\d+)-doors')\n",
        "\n",
        "# Remove the \"x-doors, \" part from body_type\n",
        "df1['body_type'] = df1['body_type'].str.replace(r'^\\d+-doors,\\s*', '', regex=True)\n",
        "\n",
        "# Optionally convert doors to numeric\n",
        "df1['doors'] = pd.to_numeric(df1['doors'], errors='coerce')\n",
        "\n",
        "# Extract just 'yes' or 'no' at the start of the string\n",
        "df1['turbo'] = df1['turbo'].str.extract(r'^(yes|no)', expand=False)\n",
        "\n",
        "# Extract the second word (brand) from spec_title\n",
        "df1['brand'] = df1['spec_title'].str.extract(r'^\\d+\\s+(\\w+)', expand=False)\n",
        "\n",
        "# Extract the third word (model)\n",
        "df1['model'] = df1['spec_title'].str.extract(r'^\\d+\\s+\\w+\\s+(\\w+)', expand=False)\n",
        "\n",
        "conditions = [\n",
        "    df1['fuel_type'] == 'Electric',\n",
        "    df1['turbo'] == 'no',\n",
        "    df1['turbo'] == 'yes'\n",
        "]\n",
        "\n",
        "# Change np.nan to a string representation of missing data\n",
        "choices = [\n",
        "    'NaN',  # Or any other string to represent missing data\n",
        "    'Naturally aspirated engine',\n",
        "    'Turbocharger, Intercooler'\n",
        "]\n",
        "\n",
        "# Also change the default to match the data type in choices\n",
        "df1['engine_aspiration'] = np.select(conditions, choices, default='NaN')\n",
        "\n",
        "\n",
        "# Extract horsepower and format with ' Hp', extract rpm number\n",
        "df2[['power_val', 'rpm']] = df2['power_hp'].str.extract(r'(\\d+)\\s*Hp\\s*@\\s*(\\d+)\\s*rpm', expand=True)\n",
        "\n",
        "# Create 'power' column with formatted string and keep rpm as number\n",
        "df2['power_hp'] = df2['power_val'] + ' Hp'\n",
        "df2['rpm'] = pd.to_numeric(df2['rpm'], errors='coerce')\n",
        "\n",
        "# Drop the temporary column\n",
        "df2.drop(columns=['power_val'], inplace=True)\n",
        "\n",
        "# Apply to both columns\n",
        "df2['urban_consumption'] = df2['urban_consumption'].apply(extract_l_per_100km)\n",
        "df2['extra_urban_consumption'] = df2['extra_urban_consumption'].apply(extract_l_per_100km)\n",
        "\n",
        "\n",
        "# Now compute the average combined_consumption\n",
        "df2['combined_consumption'] = (\n",
        "    df2[['urban_consumption', 'extra_urban_consumption']]\n",
        "    .mean(axis=1)\n",
        "    .round(2)\n",
        "    .astype(str) + ' l/100km'\n",
        ")\n",
        "\n",
        "df2['urban_consumption'] = df2['urban_consumption'].round(2).astype(str) + ' l/100km'\n",
        "df2['extra_urban_consumption'] = df2['extra_urban_consumption'].round(2).astype(str) + ' l/100km'\n",
        "\n",
        "# Step 1: Identify hybrid/electric rows in df2\n",
        "condition = df2['spec_title'].str.contains('Hybrid', case=False, na=False) | \\\n",
        "            df2['fuel_type'].str.contains('Electricity', case=False, na=False)\n",
        "\n",
        "# Step 2: Select only needed columns from df1 for the merge\n",
        "battery_cols = ['brand', 'model', 'year', 'battery_range', 'battery_capacity', 'charging_time', 'power_consumption']\n",
        "df1_battery = df1[battery_cols]\n",
        "\n",
        "# Step 3: Merge hybrid/electric rows of df2 with df1 on brand, model, year\n",
        "df2_hybrid = df2[condition].merge(df1_battery, on=['brand', 'model', 'year'], how='left', suffixes=('', '_from_df1'))\n",
        "\n",
        "# Step 4: Update the battery-related columns in df2 for hybrid/electric rows\n",
        "for col in ['battery_range', 'battery_capacity', 'charging_time', 'power_consumption']:\n",
        "    df2.loc[condition, col] = df2_hybrid[col]\n",
        "\n",
        "# Optional: If these columns do not exist in df2 yet, create them first with NaNs\n",
        "for col in ['battery_range', 'battery_capacity', 'charging_time', 'power_consumption']:\n",
        "    if col not in df2.columns:\n",
        "        df2[col] = np.nan\n",
        "\n",
        "print(df1.columns)\n",
        "print(df1.head(2))\n",
        "print(df2.head(2))\n"
      ],
      "metadata": {
        "colab": {
          "base_uri": "https://localhost:8080/"
        },
        "id": "clKnmPU7J7rS",
        "outputId": "f1e197bd-ca52-4efd-ccc6-9f66f56c9bb1"
      },
      "execution_count": 315,
      "outputs": [
        {
          "output_type": "stream",
          "name": "stdout",
          "text": [
            "Index(['year', 'spec_title', 'fuel_type', 'transmission', 'price', 'body_type',\n",
            "       'seats', 'power_kw', 'power_hp', 'max_torque', 'fuel_tank_capacity',\n",
            "       'turbo', 'top_speed', 'acceleration_0_100_kmh', 'urban_consumption',\n",
            "       'extra_urban_consumption', 'combined_consumption', 'co2_emissions',\n",
            "       'battery_range', 'battery_capacity', 'charging_time',\n",
            "       'power_consumption', 'doors', 'brand', 'model', 'engine_aspiration'],\n",
            "      dtype='object')\n",
            "   year                                     spec_title fuel_type transmission  \\\n",
            "0  2016  2016 Abarth 124 Spider 1.4 MultiAir 16v specs    Petrol       Manual   \n",
            "1  2016  2016 Abarth 124 Spider 1.4 MultiAir 16v specs    Petrol    Automatic   \n",
            "\n",
            "      price    body_type seats  power_kw  power_hp max_torque  ...  \\\n",
            "0  € 44.760  convertible     2     125.0     170.0   2500 tpm  ...   \n",
            "1  € 47.160  convertible     2     125.0     170.0   2500 tpm  ...   \n",
            "\n",
            "  combined_consumption co2_emissions battery_range battery_capacity  \\\n",
            "0          6,4 l/100km      148 g/km           NaN              NaN   \n",
            "1          6,6 l/100km      153 g/km           NaN              NaN   \n",
            "\n",
            "  charging_time power_consumption doors   brand model  \\\n",
            "0           NaN               NaN     2  Abarth   124   \n",
            "1           NaN               NaN     2  Abarth   124   \n",
            "\n",
            "           engine_aspiration  \n",
            "0  Turbocharger, Intercooler  \n",
            "1  Turbocharger, Intercooler  \n",
            "\n",
            "[2 rows x 26 columns]\n",
            "   brand model  year                                         spec_title  \\\n",
            "0  Acura    CL  2000  3.2 i V6 24V Type S (263 Hp) Automatic 2000 - ...   \n",
            "1  Acura    CL  2001  3.2 i V6 24V Type S (263 Hp) Automatic 2000 - ...   \n",
            "\n",
            "                                            spec_url          fuel_type  \\\n",
            "0  https://www.auto-data.net/en/acura-cl-ii-3.2-i...  Petrol (Gasoline)   \n",
            "1  https://www.auto-data.net/en/acura-cl-ii-3.2-i...  Petrol (Gasoline)   \n",
            "\n",
            "                      transmission                     engine_modification  \\\n",
            "0  5 gears, automatic transmission  3.2 i V6 24V Type S (263 Hp) Automatic   \n",
            "1  5 gears, automatic transmission  3.2 i V6 24V Type S (263 Hp) Automatic   \n",
            "\n",
            "  start_production body_type  ... engine_configuration  tires_size  \\\n",
            "0        2000 year     Coupe  ...             V-engine  215/50 R17   \n",
            "1        2000 year     Coupe  ...             V-engine  215/50 R17   \n",
            "\n",
            "  urban_consumption extra_urban_consumption     rpm combined_consumption  \\\n",
            "0      12.4 l/100km             8.1 l/100km  6100.0        10.25 l/100km   \n",
            "1      12.4 l/100km             8.1 l/100km  6100.0        10.25 l/100km   \n",
            "\n",
            "   battery_range battery_capacity charging_time power_consumption  \n",
            "0            NaN              NaN           NaN               NaN  \n",
            "1            NaN              NaN           NaN               NaN  \n",
            "\n",
            "[2 rows x 27 columns]\n"
          ]
        }
      ]
    },
    {
      "cell_type": "code",
      "source": [
        "for column in df2.columns:\n",
        "  if column in df1.columns:\n",
        "    print(f\"{column} is in both dataframes\")\n",
        "\n",
        "\n",
        "for column in df2.columns:\n",
        "  if column not in df1.columns:\n",
        "    print(f\"{column} is not in df2\")"
      ],
      "metadata": {
        "colab": {
          "base_uri": "https://localhost:8080/"
        },
        "id": "SJIiWAy2KyPZ",
        "outputId": "a76499ca-15e8-4dca-a81d-8b6612ac9fd6"
      },
      "execution_count": 316,
      "outputs": [
        {
          "output_type": "stream",
          "name": "stdout",
          "text": [
            "brand is in both dataframes\n",
            "model is in both dataframes\n",
            "year is in both dataframes\n",
            "spec_title is in both dataframes\n",
            "fuel_type is in both dataframes\n",
            "transmission is in both dataframes\n",
            "body_type is in both dataframes\n",
            "seats is in both dataframes\n",
            "doors is in both dataframes\n",
            "power_hp is in both dataframes\n",
            "engine_aspiration is in both dataframes\n",
            "urban_consumption is in both dataframes\n",
            "extra_urban_consumption is in both dataframes\n",
            "combined_consumption is in both dataframes\n",
            "battery_range is in both dataframes\n",
            "battery_capacity is in both dataframes\n",
            "charging_time is in both dataframes\n",
            "power_consumption is in both dataframes\n",
            "spec_url is not in df2\n",
            "engine_modification is not in df2\n",
            "start_production is not in df2\n",
            "drive_wheel is not in df2\n",
            "fuel_injection_system is not in df2\n",
            "number_of_cylinders is not in df2\n",
            "engine_configuration is not in df2\n",
            "tires_size is not in df2\n",
            "rpm is not in df2\n"
          ]
        }
      ]
    },
    {
      "cell_type": "code",
      "source": [
        "print(len(df1))\n",
        "print(len(df2))\n",
        "\n",
        "df1.drop_duplicates(subset=['brand', 'model', 'year', 'spec_title'], keep='first', inplace=True)\n",
        "df2.drop_duplicates(subset=['brand', 'model', 'year', 'spec_title'], keep='first', inplace=True)\n",
        "\n",
        "print(len(df1))\n",
        "print(len(df2))\n",
        "\n",
        "# Step 1: Concatenate df1 and df2 (aligns columns by name)\n",
        "combined_df = pd.concat([df1, df2], ignore_index=True)\n",
        "\n",
        "# Step 2: Drop duplicates based on 'brand', 'model', and 'year'\n",
        "combined_df.drop_duplicates(subset=['brand', 'model', 'year', 'spec_title'], keep='first', inplace=True)\n",
        "print(len(combined_df))\n",
        "\n",
        "combined_df.to_csv(\"combined_data.csv\", index=False)\n",
        "\n",
        "combined_df.to_json('final_output.json', orient='records', indent=2)\n"
      ],
      "metadata": {
        "colab": {
          "base_uri": "https://localhost:8080/"
        },
        "id": "y2BMw8Z3OaY5",
        "outputId": "e23a7e59-2981-47b4-b11a-8060f8a5355c"
      },
      "execution_count": 317,
      "outputs": [
        {
          "output_type": "stream",
          "name": "stdout",
          "text": [
            "25682\n",
            "25662\n",
            "19344\n",
            "24718\n",
            "44062\n"
          ]
        }
      ]
    },
    {
      "cell_type": "code",
      "source": [
        "from google.colab import files\n",
        "files.download('final_output.json')\n"
      ],
      "metadata": {
        "colab": {
          "base_uri": "https://localhost:8080/",
          "height": 17
        },
        "id": "tm3fzCtprQ5e",
        "outputId": "6c61ef0f-70ad-4026-d3d5-457ba7123076"
      },
      "execution_count": 318,
      "outputs": [
        {
          "output_type": "display_data",
          "data": {
            "text/plain": [
              "<IPython.core.display.Javascript object>"
            ],
            "application/javascript": [
              "\n",
              "    async function download(id, filename, size) {\n",
              "      if (!google.colab.kernel.accessAllowed) {\n",
              "        return;\n",
              "      }\n",
              "      const div = document.createElement('div');\n",
              "      const label = document.createElement('label');\n",
              "      label.textContent = `Downloading \"${filename}\": `;\n",
              "      div.appendChild(label);\n",
              "      const progress = document.createElement('progress');\n",
              "      progress.max = size;\n",
              "      div.appendChild(progress);\n",
              "      document.body.appendChild(div);\n",
              "\n",
              "      const buffers = [];\n",
              "      let downloaded = 0;\n",
              "\n",
              "      const channel = await google.colab.kernel.comms.open(id);\n",
              "      // Send a message to notify the kernel that we're ready.\n",
              "      channel.send({})\n",
              "\n",
              "      for await (const message of channel.messages) {\n",
              "        // Send a message to notify the kernel that we're ready.\n",
              "        channel.send({})\n",
              "        if (message.buffers) {\n",
              "          for (const buffer of message.buffers) {\n",
              "            buffers.push(buffer);\n",
              "            downloaded += buffer.byteLength;\n",
              "            progress.value = downloaded;\n",
              "          }\n",
              "        }\n",
              "      }\n",
              "      const blob = new Blob(buffers, {type: 'application/binary'});\n",
              "      const a = document.createElement('a');\n",
              "      a.href = window.URL.createObjectURL(blob);\n",
              "      a.download = filename;\n",
              "      div.appendChild(a);\n",
              "      a.click();\n",
              "      div.remove();\n",
              "    }\n",
              "  "
            ]
          },
          "metadata": {}
        },
        {
          "output_type": "display_data",
          "data": {
            "text/plain": [
              "<IPython.core.display.Javascript object>"
            ],
            "application/javascript": [
              "download(\"download_50c9c4da-ef9c-4cd5-a617-6195bbac5258\", \"final_output.json\", 48613521)"
            ]
          },
          "metadata": {}
        }
      ]
    }
  ]
}